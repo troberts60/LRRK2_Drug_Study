{
  "nbformat": 4,
  "nbformat_minor": 0,
  "metadata": {
    "colab": {
      "name": "LRRK2_Lipinski.ipynb",
      "provenance": [],
      "authorship_tag": "ABX9TyMElqQjouAmLEjZvvY17ipu",
      "include_colab_link": true
    },
    "kernelspec": {
      "name": "python3",
      "display_name": "Python 3"
    },
    "language_info": {
      "name": "python"
    }
  },
  "cells": [
    {
      "cell_type": "markdown",
      "metadata": {
        "id": "view-in-github",
        "colab_type": "text"
      },
      "source": [
        "<a href=\"https://colab.research.google.com/github/troberts60/LRRK2_Drug_Study/blob/main/LRRK2_Lipinski.ipynb\" target=\"_parent\"><img src=\"https://colab.research.google.com/assets/colab-badge.svg\" alt=\"Open In Colab\"/></a>"
      ]
    },
    {
      "cell_type": "markdown",
      "metadata": {
        "id": "SjQdZjVzmzJr"
      },
      "source": [
        "#Conda and rdkit"
      ]
    },
    {
      "cell_type": "code",
      "metadata": {
        "id": "OTemZGXOm3xV",
        "colab": {
          "base_uri": "https://localhost:8080/"
        },
        "outputId": "99b9989c-2a07-4189-ae1f-47c73ad3c252"
      },
      "source": [
        "! wget https://repo.anaconda.com/miniconda/Miniconda3-py37_4.8.2-Linux-x86_64.sh\n",
        "! chmod +x Miniconda3-py37_4.8.2-Linux-x86_64.sh\n",
        "! bash ./Miniconda3-py37_4.8.2-Linux-x86_64.sh -b -f -p /usr/local\n",
        "! conda install -c rdkit rdkit -y\n",
        "import sys\n",
        "sys.path.append('/usr/local/lib/python3.7/site-packages/')"
      ],
      "execution_count": 1,
      "outputs": [
        {
          "output_type": "stream",
          "name": "stdout",
          "text": [
            "--2021-11-29 18:17:39--  https://repo.anaconda.com/miniconda/Miniconda3-py37_4.8.2-Linux-x86_64.sh\n",
            "Resolving repo.anaconda.com (repo.anaconda.com)... 104.16.131.3, 104.16.130.3, 2606:4700::6810:8203, ...\n",
            "Connecting to repo.anaconda.com (repo.anaconda.com)|104.16.131.3|:443... connected.\n",
            "HTTP request sent, awaiting response... 200 OK\n",
            "Length: 85055499 (81M) [application/x-sh]\n",
            "Saving to: ‘Miniconda3-py37_4.8.2-Linux-x86_64.sh’\n",
            "\n",
            "Miniconda3-py37_4.8 100%[===================>]  81.12M  70.0MB/s    in 1.2s    \n",
            "\n",
            "2021-11-29 18:17:41 (70.0 MB/s) - ‘Miniconda3-py37_4.8.2-Linux-x86_64.sh’ saved [85055499/85055499]\n",
            "\n",
            "PREFIX=/usr/local\n",
            "Unpacking payload ...\n",
            "Collecting package metadata (current_repodata.json): - \b\b\\ \b\b| \b\b/ \b\bdone\n",
            "Solving environment: \\ \b\b| \b\bdone\n",
            "\n",
            "## Package Plan ##\n",
            "\n",
            "  environment location: /usr/local\n",
            "\n",
            "  added / updated specs:\n",
            "    - _libgcc_mutex==0.1=main\n",
            "    - asn1crypto==1.3.0=py37_0\n",
            "    - ca-certificates==2020.1.1=0\n",
            "    - certifi==2019.11.28=py37_0\n",
            "    - cffi==1.14.0=py37h2e261b9_0\n",
            "    - chardet==3.0.4=py37_1003\n",
            "    - conda-package-handling==1.6.0=py37h7b6447c_0\n",
            "    - conda==4.8.2=py37_0\n",
            "    - cryptography==2.8=py37h1ba5d50_0\n",
            "    - idna==2.8=py37_0\n",
            "    - ld_impl_linux-64==2.33.1=h53a641e_7\n",
            "    - libedit==3.1.20181209=hc058e9b_0\n",
            "    - libffi==3.2.1=hd88cf55_4\n",
            "    - libgcc-ng==9.1.0=hdf63c60_0\n",
            "    - libstdcxx-ng==9.1.0=hdf63c60_0\n",
            "    - ncurses==6.2=he6710b0_0\n",
            "    - openssl==1.1.1d=h7b6447c_4\n",
            "    - pip==20.0.2=py37_1\n",
            "    - pycosat==0.6.3=py37h7b6447c_0\n",
            "    - pycparser==2.19=py37_0\n",
            "    - pyopenssl==19.1.0=py37_0\n",
            "    - pysocks==1.7.1=py37_0\n",
            "    - python==3.7.6=h0371630_2\n",
            "    - readline==7.0=h7b6447c_5\n",
            "    - requests==2.22.0=py37_1\n",
            "    - ruamel_yaml==0.15.87=py37h7b6447c_0\n",
            "    - setuptools==45.2.0=py37_0\n",
            "    - six==1.14.0=py37_0\n",
            "    - sqlite==3.31.1=h7b6447c_0\n",
            "    - tk==8.6.8=hbc83047_0\n",
            "    - tqdm==4.42.1=py_0\n",
            "    - urllib3==1.25.8=py37_0\n",
            "    - wheel==0.34.2=py37_0\n",
            "    - xz==5.2.4=h14c3975_4\n",
            "    - yaml==0.1.7=had09818_2\n",
            "    - zlib==1.2.11=h7b6447c_3\n",
            "\n",
            "\n",
            "The following NEW packages will be INSTALLED:\n",
            "\n",
            "  _libgcc_mutex      pkgs/main/linux-64::_libgcc_mutex-0.1-main\n",
            "  asn1crypto         pkgs/main/linux-64::asn1crypto-1.3.0-py37_0\n",
            "  ca-certificates    pkgs/main/linux-64::ca-certificates-2020.1.1-0\n",
            "  certifi            pkgs/main/linux-64::certifi-2019.11.28-py37_0\n",
            "  cffi               pkgs/main/linux-64::cffi-1.14.0-py37h2e261b9_0\n",
            "  chardet            pkgs/main/linux-64::chardet-3.0.4-py37_1003\n",
            "  conda              pkgs/main/linux-64::conda-4.8.2-py37_0\n",
            "  conda-package-han~ pkgs/main/linux-64::conda-package-handling-1.6.0-py37h7b6447c_0\n",
            "  cryptography       pkgs/main/linux-64::cryptography-2.8-py37h1ba5d50_0\n",
            "  idna               pkgs/main/linux-64::idna-2.8-py37_0\n",
            "  ld_impl_linux-64   pkgs/main/linux-64::ld_impl_linux-64-2.33.1-h53a641e_7\n",
            "  libedit            pkgs/main/linux-64::libedit-3.1.20181209-hc058e9b_0\n",
            "  libffi             pkgs/main/linux-64::libffi-3.2.1-hd88cf55_4\n",
            "  libgcc-ng          pkgs/main/linux-64::libgcc-ng-9.1.0-hdf63c60_0\n",
            "  libstdcxx-ng       pkgs/main/linux-64::libstdcxx-ng-9.1.0-hdf63c60_0\n",
            "  ncurses            pkgs/main/linux-64::ncurses-6.2-he6710b0_0\n",
            "  openssl            pkgs/main/linux-64::openssl-1.1.1d-h7b6447c_4\n",
            "  pip                pkgs/main/linux-64::pip-20.0.2-py37_1\n",
            "  pycosat            pkgs/main/linux-64::pycosat-0.6.3-py37h7b6447c_0\n",
            "  pycparser          pkgs/main/linux-64::pycparser-2.19-py37_0\n",
            "  pyopenssl          pkgs/main/linux-64::pyopenssl-19.1.0-py37_0\n",
            "  pysocks            pkgs/main/linux-64::pysocks-1.7.1-py37_0\n",
            "  python             pkgs/main/linux-64::python-3.7.6-h0371630_2\n",
            "  readline           pkgs/main/linux-64::readline-7.0-h7b6447c_5\n",
            "  requests           pkgs/main/linux-64::requests-2.22.0-py37_1\n",
            "  ruamel_yaml        pkgs/main/linux-64::ruamel_yaml-0.15.87-py37h7b6447c_0\n",
            "  setuptools         pkgs/main/linux-64::setuptools-45.2.0-py37_0\n",
            "  six                pkgs/main/linux-64::six-1.14.0-py37_0\n",
            "  sqlite             pkgs/main/linux-64::sqlite-3.31.1-h7b6447c_0\n",
            "  tk                 pkgs/main/linux-64::tk-8.6.8-hbc83047_0\n",
            "  tqdm               pkgs/main/noarch::tqdm-4.42.1-py_0\n",
            "  urllib3            pkgs/main/linux-64::urllib3-1.25.8-py37_0\n",
            "  wheel              pkgs/main/linux-64::wheel-0.34.2-py37_0\n",
            "  xz                 pkgs/main/linux-64::xz-5.2.4-h14c3975_4\n",
            "  yaml               pkgs/main/linux-64::yaml-0.1.7-had09818_2\n",
            "  zlib               pkgs/main/linux-64::zlib-1.2.11-h7b6447c_3\n",
            "\n",
            "\n",
            "Preparing transaction: - \b\b\\ \b\b| \b\b/ \b\b- \b\bdone\n",
            "Executing transaction: | \b\b/ \b\b- \b\b\\ \b\b| \b\b/ \b\b- \b\b\\ \b\b| \b\b/ \b\b- \b\b\\ \b\b| \b\b/ \b\b- \b\b\\ \b\b| \b\b/ \b\b- \b\b\\ \b\b| \b\b/ \b\b- \b\b\\ \b\b| \b\bdone\n",
            "installation finished.\n",
            "WARNING:\n",
            "    You currently have a PYTHONPATH environment variable set. This may cause\n",
            "    unexpected behavior when running the Python interpreter in Miniconda3.\n",
            "    For best results, please verify that your PYTHONPATH only points to\n",
            "    directories of packages that are compatible with the Python interpreter\n",
            "    in Miniconda3: /usr/local\n",
            "Collecting package metadata (current_repodata.json): - \b\b\\ \b\b| \b\b/ \b\b- \b\b\\ \b\b| \b\b/ \b\b- \b\b\\ \b\b| \b\b/ \b\b- \b\b\\ \b\b| \b\b/ \b\b- \b\b\\ \b\b| \b\b/ \b\b- \b\b\\ \b\b| \b\b/ \b\b- \b\b\\ \b\b| \b\b/ \b\b- \b\b\\ \b\b| \b\b/ \b\bdone\n",
            "Solving environment: \\ \b\b| \b\b/ \b\b- \b\b\\ \b\b| \b\b/ \b\b- \b\b\\ \b\b| \b\b/ \b\b- \b\bdone\n",
            "\n",
            "## Package Plan ##\n",
            "\n",
            "  environment location: /usr/local\n",
            "\n",
            "  added / updated specs:\n",
            "    - rdkit\n",
            "\n",
            "\n",
            "The following packages will be downloaded:\n",
            "\n",
            "    package                    |            build\n",
            "    ---------------------------|-----------------\n",
            "    _openmp_mutex-4.5          |            1_gnu          22 KB\n",
            "    blas-1.0                   |              mkl           6 KB\n",
            "    bottleneck-1.3.2           |   py37heb32a55_1         125 KB\n",
            "    bzip2-1.0.8                |       h7b6447c_0          78 KB\n",
            "    ca-certificates-2021.10.26 |       h06a4308_2         115 KB\n",
            "    cairo-1.16.0               |       hf32fb01_1         1.0 MB\n",
            "    certifi-2021.10.8          |   py37h06a4308_0         151 KB\n",
            "    conda-4.10.3               |   py37h06a4308_0         2.9 MB\n",
            "    fontconfig-2.13.1          |       h6c09931_0         250 KB\n",
            "    freetype-2.11.0            |       h70c0345_0         618 KB\n",
            "    giflib-5.2.1               |       h7b6447c_0          78 KB\n",
            "    glib-2.69.1                |       h5202010_0         1.7 MB\n",
            "    icu-58.2                   |       he6710b0_3        10.5 MB\n",
            "    intel-openmp-2021.4.0      |    h06a4308_3561         4.2 MB\n",
            "    jpeg-9d                    |       h7f8727e_0         232 KB\n",
            "    lcms2-2.12                 |       h3be6417_0         312 KB\n",
            "    libboost-1.73.0            |      h3ff78a5_11        13.9 MB\n",
            "    libffi-3.3                 |       he6710b0_2          50 KB\n",
            "    libgcc-ng-9.3.0            |      h5101ec6_17         4.8 MB\n",
            "    libgomp-9.3.0              |      h5101ec6_17         311 KB\n",
            "    libpng-1.6.37              |       hbc83047_0         278 KB\n",
            "    libtiff-4.2.0              |       h85742a9_0         502 KB\n",
            "    libuuid-1.0.3              |       h7f8727e_2          17 KB\n",
            "    libwebp-1.2.0              |       h89dd481_0         493 KB\n",
            "    libwebp-base-1.2.0         |       h27cfd23_0         437 KB\n",
            "    libxcb-1.14                |       h7b6447c_0         505 KB\n",
            "    libxml2-2.9.12             |       h03d6c58_0         1.2 MB\n",
            "    lz4-c-1.9.3                |       h295c915_1         185 KB\n",
            "    mkl-2021.4.0               |     h06a4308_640       142.6 MB\n",
            "    mkl-service-2.4.0          |   py37h7f8727e_0          56 KB\n",
            "    mkl_fft-1.3.1              |   py37hd3c417c_0         172 KB\n",
            "    mkl_random-1.2.2           |   py37h51133e4_0         287 KB\n",
            "    numexpr-2.7.3              |   py37h22e1b3c_1         188 KB\n",
            "    numpy-1.21.2               |   py37h20f2e39_0          23 KB\n",
            "    numpy-base-1.21.2          |   py37h79a1101_0         4.8 MB\n",
            "    olefile-0.46               |           py37_0          50 KB\n",
            "    openssl-1.1.1l             |       h7f8727e_0         2.5 MB\n",
            "    pandas-1.3.4               |   py37h8c16a72_0         9.2 MB\n",
            "    pcre-8.45                  |       h295c915_0         207 KB\n",
            "    pillow-8.4.0               |   py37h5aabda8_0         644 KB\n",
            "    pixman-0.40.0              |       h7f8727e_1         373 KB\n",
            "    py-boost-1.73.0            |  py37ha9443f7_11         204 KB\n",
            "    python-dateutil-2.8.2      |     pyhd3eb1b0_0         233 KB\n",
            "    pytz-2021.3                |     pyhd3eb1b0_0         171 KB\n",
            "    rdkit-2020.09.1.0          |   py37hd50e099_1        25.8 MB  rdkit\n",
            "    xz-5.2.5                   |       h7b6447c_0         341 KB\n",
            "    zstd-1.4.9                 |       haebb681_0         480 KB\n",
            "    ------------------------------------------------------------\n",
            "                                           Total:       233.1 MB\n",
            "\n",
            "The following NEW packages will be INSTALLED:\n",
            "\n",
            "  _openmp_mutex      pkgs/main/linux-64::_openmp_mutex-4.5-1_gnu\n",
            "  blas               pkgs/main/linux-64::blas-1.0-mkl\n",
            "  bottleneck         pkgs/main/linux-64::bottleneck-1.3.2-py37heb32a55_1\n",
            "  bzip2              pkgs/main/linux-64::bzip2-1.0.8-h7b6447c_0\n",
            "  cairo              pkgs/main/linux-64::cairo-1.16.0-hf32fb01_1\n",
            "  fontconfig         pkgs/main/linux-64::fontconfig-2.13.1-h6c09931_0\n",
            "  freetype           pkgs/main/linux-64::freetype-2.11.0-h70c0345_0\n",
            "  giflib             pkgs/main/linux-64::giflib-5.2.1-h7b6447c_0\n",
            "  glib               pkgs/main/linux-64::glib-2.69.1-h5202010_0\n",
            "  icu                pkgs/main/linux-64::icu-58.2-he6710b0_3\n",
            "  intel-openmp       pkgs/main/linux-64::intel-openmp-2021.4.0-h06a4308_3561\n",
            "  jpeg               pkgs/main/linux-64::jpeg-9d-h7f8727e_0\n",
            "  lcms2              pkgs/main/linux-64::lcms2-2.12-h3be6417_0\n",
            "  libboost           pkgs/main/linux-64::libboost-1.73.0-h3ff78a5_11\n",
            "  libgomp            pkgs/main/linux-64::libgomp-9.3.0-h5101ec6_17\n",
            "  libpng             pkgs/main/linux-64::libpng-1.6.37-hbc83047_0\n",
            "  libtiff            pkgs/main/linux-64::libtiff-4.2.0-h85742a9_0\n",
            "  libuuid            pkgs/main/linux-64::libuuid-1.0.3-h7f8727e_2\n",
            "  libwebp            pkgs/main/linux-64::libwebp-1.2.0-h89dd481_0\n",
            "  libwebp-base       pkgs/main/linux-64::libwebp-base-1.2.0-h27cfd23_0\n",
            "  libxcb             pkgs/main/linux-64::libxcb-1.14-h7b6447c_0\n",
            "  libxml2            pkgs/main/linux-64::libxml2-2.9.12-h03d6c58_0\n",
            "  lz4-c              pkgs/main/linux-64::lz4-c-1.9.3-h295c915_1\n",
            "  mkl                pkgs/main/linux-64::mkl-2021.4.0-h06a4308_640\n",
            "  mkl-service        pkgs/main/linux-64::mkl-service-2.4.0-py37h7f8727e_0\n",
            "  mkl_fft            pkgs/main/linux-64::mkl_fft-1.3.1-py37hd3c417c_0\n",
            "  mkl_random         pkgs/main/linux-64::mkl_random-1.2.2-py37h51133e4_0\n",
            "  numexpr            pkgs/main/linux-64::numexpr-2.7.3-py37h22e1b3c_1\n",
            "  numpy              pkgs/main/linux-64::numpy-1.21.2-py37h20f2e39_0\n",
            "  numpy-base         pkgs/main/linux-64::numpy-base-1.21.2-py37h79a1101_0\n",
            "  olefile            pkgs/main/linux-64::olefile-0.46-py37_0\n",
            "  pandas             pkgs/main/linux-64::pandas-1.3.4-py37h8c16a72_0\n",
            "  pcre               pkgs/main/linux-64::pcre-8.45-h295c915_0\n",
            "  pillow             pkgs/main/linux-64::pillow-8.4.0-py37h5aabda8_0\n",
            "  pixman             pkgs/main/linux-64::pixman-0.40.0-h7f8727e_1\n",
            "  py-boost           pkgs/main/linux-64::py-boost-1.73.0-py37ha9443f7_11\n",
            "  python-dateutil    pkgs/main/noarch::python-dateutil-2.8.2-pyhd3eb1b0_0\n",
            "  pytz               pkgs/main/noarch::pytz-2021.3-pyhd3eb1b0_0\n",
            "  rdkit              rdkit/linux-64::rdkit-2020.09.1.0-py37hd50e099_1\n",
            "  zstd               pkgs/main/linux-64::zstd-1.4.9-haebb681_0\n",
            "\n",
            "The following packages will be UPDATED:\n",
            "\n",
            "  ca-certificates                                2020.1.1-0 --> 2021.10.26-h06a4308_2\n",
            "  certifi                                 2019.11.28-py37_0 --> 2021.10.8-py37h06a4308_0\n",
            "  conda                                        4.8.2-py37_0 --> 4.10.3-py37h06a4308_0\n",
            "  libffi                                   3.2.1-hd88cf55_4 --> 3.3-he6710b0_2\n",
            "  libgcc-ng                                9.1.0-hdf63c60_0 --> 9.3.0-h5101ec6_17\n",
            "  openssl                                 1.1.1d-h7b6447c_4 --> 1.1.1l-h7f8727e_0\n",
            "  xz                                       5.2.4-h14c3975_4 --> 5.2.5-h7b6447c_0\n",
            "\n",
            "\n",
            "\n",
            "Downloading and Extracting Packages\n",
            "ca-certificates-2021 | 115 KB    | : 100% 1.0/1 [00:00<00:00,  8.30it/s]\n",
            "openssl-1.1.1l       | 2.5 MB    | : 100% 1.0/1 [00:00<00:00,  4.37it/s]\n",
            "xz-5.2.5             | 341 KB    | : 100% 1.0/1 [00:00<00:00, 12.43it/s]\n",
            "lcms2-2.12           | 312 KB    | : 100% 1.0/1 [00:00<00:00, 12.82it/s]\n",
            "jpeg-9d              | 232 KB    | : 100% 1.0/1 [00:00<00:00, 12.03it/s]\n",
            "freetype-2.11.0      | 618 KB    | : 100% 1.0/1 [00:00<00:00, 10.04it/s]\n",
            "libgcc-ng-9.3.0      | 4.8 MB    | : 100% 1.0/1 [00:00<00:00,  3.27it/s]\n",
            "conda-4.10.3         | 2.9 MB    | : 100% 1.0/1 [00:00<00:00,  4.72it/s]\n",
            "libxcb-1.14          | 505 KB    | : 100% 1.0/1 [00:00<00:00,  9.20it/s]\n",
            "py-boost-1.73.0      | 204 KB    | : 100% 1.0/1 [00:00<00:00, 12.54it/s]\n",
            "_openmp_mutex-4.5    | 22 KB     | : 100% 1.0/1 [00:00<00:00, 26.44it/s]\n",
            "pixman-0.40.0        | 373 KB    | : 100% 1.0/1 [00:00<00:00, 12.92it/s]\n",
            "libtiff-4.2.0        | 502 KB    | : 100% 1.0/1 [00:00<00:00, 10.81it/s]\n",
            "libwebp-base-1.2.0   | 437 KB    | : 100% 1.0/1 [00:00<00:00, 11.30it/s]\n",
            "mkl_fft-1.3.1        | 172 KB    | : 100% 1.0/1 [00:00<00:00,  9.23it/s]\n",
            "fontconfig-2.13.1    | 250 KB    | : 100% 1.0/1 [00:00<00:00, 11.80it/s]\n",
            "numexpr-2.7.3        | 188 KB    | : 100% 1.0/1 [00:00<00:00,  8.54it/s]\n",
            "cairo-1.16.0         | 1.0 MB    | : 100% 1.0/1 [00:00<00:00,  4.09it/s]\n",
            "libgomp-9.3.0        | 311 KB    | : 100% 1.0/1 [00:00<00:00, 10.79it/s]\n",
            "libboost-1.73.0      | 13.9 MB   | : 100% 1.0/1 [00:02<00:00,  3.47s/it]               \n",
            "certifi-2021.10.8    | 151 KB    | : 100% 1.0/1 [00:00<00:00, 13.46it/s]\n",
            "icu-58.2             | 10.5 MB   | : 100% 1.0/1 [00:00<00:00,  2.19it/s]               \n",
            "pytz-2021.3          | 171 KB    | : 100% 1.0/1 [00:00<00:00,  7.77it/s]\n",
            "mkl_random-1.2.2     | 287 KB    | : 100% 1.0/1 [00:00<00:00, 10.77it/s]\n",
            "pandas-1.3.4         | 9.2 MB    | : 100% 1.0/1 [00:01<00:00,  1.45it/s]              \n",
            "intel-openmp-2021.4. | 4.2 MB    | : 100% 1.0/1 [00:00<00:00,  3.17it/s]\n",
            "zstd-1.4.9           | 480 KB    | : 100% 1.0/1 [00:00<00:00, 10.24it/s]\n",
            "libffi-3.3           | 50 KB     | : 100% 1.0/1 [00:00<00:00, 13.41it/s]\n",
            "python-dateutil-2.8. | 233 KB    | : 100% 1.0/1 [00:00<00:00,  5.06it/s]                \n",
            "libpng-1.6.37        | 278 KB    | : 100% 1.0/1 [00:00<00:00, 13.12it/s]\n",
            "pillow-8.4.0         | 644 KB    | : 100% 1.0/1 [00:00<00:00,  9.68it/s]\n",
            "pcre-8.45            | 207 KB    | : 100% 1.0/1 [00:00<00:00,  9.97it/s]\n",
            "blas-1.0             | 6 KB      | : 100% 1.0/1 [00:00<00:00, 12.90it/s]\n",
            "bottleneck-1.3.2     | 125 KB    | : 100% 1.0/1 [00:00<00:00, 10.39it/s]\n",
            "mkl-service-2.4.0    | 56 KB     | : 100% 1.0/1 [00:00<00:00, 15.17it/s]\n",
            "olefile-0.46         | 50 KB     | : 100% 1.0/1 [00:00<00:00, 14.11it/s]\n",
            "numpy-base-1.21.2    | 4.8 MB    | : 100% 1.0/1 [00:00<00:00,  2.59it/s]               \n",
            "bzip2-1.0.8          | 78 KB     | : 100% 1.0/1 [00:00<00:00, 11.54it/s]\n",
            "giflib-5.2.1         | 78 KB     | : 100% 1.0/1 [00:00<00:00, 12.57it/s]\n",
            "mkl-2021.4.0         | 142.6 MB  | : 100% 1.0/1 [00:08<00:00,  8.48s/it]               \n",
            "libxml2-2.9.12       | 1.2 MB    | : 100% 1.0/1 [00:00<00:00,  7.48it/s]\n",
            "numpy-1.21.2         | 23 KB     | : 100% 1.0/1 [00:00<00:00, 15.19it/s]\n",
            "libuuid-1.0.3        | 17 KB     | : 100% 1.0/1 [00:00<00:00, 12.80it/s]\n",
            "rdkit-2020.09.1.0    | 25.8 MB   | : 100% 1.0/1 [00:08<00:00,  8.23s/it]\n",
            "glib-2.69.1          | 1.7 MB    | : 100% 1.0/1 [00:00<00:00,  6.75it/s]\n",
            "lz4-c-1.9.3          | 185 KB    | : 100% 1.0/1 [00:00<00:00, 12.33it/s]\n",
            "libwebp-1.2.0        | 493 KB    | : 100% 1.0/1 [00:00<00:00, 10.88it/s]\n",
            "Preparing transaction: | \b\b/ \b\b- \b\b\\ \b\b| \b\b/ \b\b- \b\b\\ \b\b| \b\b/ \b\bdone\n",
            "Verifying transaction: \\ \b\b| \b\b/ \b\b- \b\b\\ \b\b| \b\b/ \b\b- \b\b\\ \b\b| \b\b/ \b\b- \b\b\\ \b\b| \b\b/ \b\b- \b\b\\ \b\b| \b\b/ \b\b- \b\b\\ \b\b| \b\b/ \b\b- \b\b\\ \b\b| \b\b/ \b\b- \b\b\\ \b\bdone\n",
            "Executing transaction: / \b\b- \b\b\\ \b\b| \b\b/ \b\b- \b\b\\ \b\b| \b\b/ \b\b- \b\b\\ \b\b| \b\b/ \b\b- \b\b\\ \b\b| \b\b/ \b\b- \b\b\\ \b\b| \b\b/ \b\b- \b\b\\ \b\b| \b\b/ \b\b- \b\b\\ \b\b| \b\b/ \b\b- \b\b\\ \b\b| \b\b/ \b\b- \b\b\\ \b\b| \b\b/ \b\b- \b\b\\ \b\b| \b\b/ \b\b- \b\b\\ \b\b| \b\b/ \b\b- \b\b\\ \b\b| \b\b/ \b\b- \b\b\\ \b\b| \b\b/ \b\bdone\n"
          ]
        }
      ]
    },
    {
      "cell_type": "markdown",
      "metadata": {
        "id": "apdikfdbpMZ6"
      },
      "source": [
        "#Load Data"
      ]
    },
    {
      "cell_type": "code",
      "metadata": {
        "id": "hf6q5fIbpPO6"
      },
      "source": [
        "import pandas as pd\n",
        "\n",
        "df = pd.read_csv('lrrk2_preprocessed_data.csv')"
      ],
      "execution_count": 2,
      "outputs": []
    },
    {
      "cell_type": "markdown",
      "metadata": {
        "id": "RUYzfgnrqRP4"
      },
      "source": [
        "#Libraries"
      ]
    },
    {
      "cell_type": "code",
      "metadata": {
        "id": "d2iMFYwmqUxP"
      },
      "source": [
        "import numpy as np\n",
        "from rdkit import Chem\n",
        "from rdkit.Chem import Descriptors, Lipinski "
      ],
      "execution_count": 3,
      "outputs": []
    },
    {
      "cell_type": "markdown",
      "metadata": {
        "id": "H4YYzfhDrPgm"
      },
      "source": [
        "#Calculate Descripors"
      ]
    },
    {
      "cell_type": "code",
      "metadata": {
        "id": "mdtbHKyurS7B"
      },
      "source": [
        "# Inspired by: https://codeocean.com/explore/capsules?query=tag:data-curation\n",
        "\n",
        "def lip(smiles, verbose=False):\n",
        "  molData = []\n",
        "  for elem in smiles:\n",
        "    mol = Chem.MolFromSmiles(elem)\n",
        "    molData.append(mol)\n",
        "  \n",
        "  bd = np.arange(1,1)\n",
        "  i = 0\n",
        "  for mol in molData:\n",
        "    desc_MolWt = Descriptors.MolWt(mol)\n",
        "    desc_LogP = Descriptors.MolLogP(mol)\n",
        "    desc_Hdonor = Lipinski.NumHDonors(mol)\n",
        "    desc_HAccep = Lipinski.NumHAcceptors(mol)\n",
        "\n",
        "    row = np.array([desc_MolWt,\n",
        "                    desc_LogP,\n",
        "                    desc_Hdonor,\n",
        "                    desc_HAccep])\n",
        "    \n",
        "    if (i==0):\n",
        "      bd = row\n",
        "    else:\n",
        "      bd = np.vstack([bd,row])\n",
        "    i= i+1\n",
        "  colNames = [\"MW\", \"LogP\", \"hDon\", \"hAcc\"]\n",
        "  descript = pd.DataFrame(data=bd,columns=colNames)\n",
        "  return descript"
      ],
      "execution_count": 4,
      "outputs": []
    },
    {
      "cell_type": "code",
      "metadata": {
        "id": "qCuyC7ndutUv"
      },
      "source": [
        "df_lip = lip(df.canonical_smiles)"
      ],
      "execution_count": 5,
      "outputs": []
    },
    {
      "cell_type": "markdown",
      "metadata": {
        "id": "hYmHTg7PvinU"
      },
      "source": [
        "#Combine Data Frames"
      ]
    },
    {
      "cell_type": "code",
      "metadata": {
        "colab": {
          "base_uri": "https://localhost:8080/",
          "height": 424
        },
        "id": "RJRNsJ29voQ4",
        "outputId": "c24bbcf7-547b-4f83-a105-37e43f6137eb"
      },
      "source": [
        "df_lip"
      ],
      "execution_count": 6,
      "outputs": [
        {
          "output_type": "execute_result",
          "data": {
            "text/html": [
              "<div>\n",
              "<style scoped>\n",
              "    .dataframe tbody tr th:only-of-type {\n",
              "        vertical-align: middle;\n",
              "    }\n",
              "\n",
              "    .dataframe tbody tr th {\n",
              "        vertical-align: top;\n",
              "    }\n",
              "\n",
              "    .dataframe thead th {\n",
              "        text-align: right;\n",
              "    }\n",
              "</style>\n",
              "<table border=\"1\" class=\"dataframe\">\n",
              "  <thead>\n",
              "    <tr style=\"text-align: right;\">\n",
              "      <th></th>\n",
              "      <th>MW</th>\n",
              "      <th>LogP</th>\n",
              "      <th>hDon</th>\n",
              "      <th>hAcc</th>\n",
              "    </tr>\n",
              "  </thead>\n",
              "  <tbody>\n",
              "    <tr>\n",
              "      <th>0</th>\n",
              "      <td>293.326</td>\n",
              "      <td>3.40042</td>\n",
              "      <td>3.0</td>\n",
              "      <td>5.0</td>\n",
              "    </tr>\n",
              "    <tr>\n",
              "      <th>1</th>\n",
              "      <td>262.316</td>\n",
              "      <td>3.38422</td>\n",
              "      <td>1.0</td>\n",
              "      <td>4.0</td>\n",
              "    </tr>\n",
              "    <tr>\n",
              "      <th>2</th>\n",
              "      <td>458.566</td>\n",
              "      <td>3.88950</td>\n",
              "      <td>2.0</td>\n",
              "      <td>6.0</td>\n",
              "    </tr>\n",
              "    <tr>\n",
              "      <th>3</th>\n",
              "      <td>570.698</td>\n",
              "      <td>3.43870</td>\n",
              "      <td>1.0</td>\n",
              "      <td>9.0</td>\n",
              "    </tr>\n",
              "    <tr>\n",
              "      <th>4</th>\n",
              "      <td>614.216</td>\n",
              "      <td>5.02410</td>\n",
              "      <td>2.0</td>\n",
              "      <td>10.0</td>\n",
              "    </tr>\n",
              "    <tr>\n",
              "      <th>...</th>\n",
              "      <td>...</td>\n",
              "      <td>...</td>\n",
              "      <td>...</td>\n",
              "      <td>...</td>\n",
              "    </tr>\n",
              "    <tr>\n",
              "      <th>1199</th>\n",
              "      <td>522.509</td>\n",
              "      <td>3.89070</td>\n",
              "      <td>2.0</td>\n",
              "      <td>8.0</td>\n",
              "    </tr>\n",
              "    <tr>\n",
              "      <th>1200</th>\n",
              "      <td>482.566</td>\n",
              "      <td>3.73680</td>\n",
              "      <td>2.0</td>\n",
              "      <td>8.0</td>\n",
              "    </tr>\n",
              "    <tr>\n",
              "      <th>1201</th>\n",
              "      <td>446.536</td>\n",
              "      <td>3.25380</td>\n",
              "      <td>3.0</td>\n",
              "      <td>8.0</td>\n",
              "    </tr>\n",
              "    <tr>\n",
              "      <th>1202</th>\n",
              "      <td>393.491</td>\n",
              "      <td>3.57520</td>\n",
              "      <td>0.0</td>\n",
              "      <td>7.0</td>\n",
              "    </tr>\n",
              "    <tr>\n",
              "      <th>1203</th>\n",
              "      <td>458.540</td>\n",
              "      <td>1.13020</td>\n",
              "      <td>0.0</td>\n",
              "      <td>7.0</td>\n",
              "    </tr>\n",
              "  </tbody>\n",
              "</table>\n",
              "<p>1204 rows × 4 columns</p>\n",
              "</div>"
            ],
            "text/plain": [
              "           MW     LogP  hDon  hAcc\n",
              "0     293.326  3.40042   3.0   5.0\n",
              "1     262.316  3.38422   1.0   4.0\n",
              "2     458.566  3.88950   2.0   6.0\n",
              "3     570.698  3.43870   1.0   9.0\n",
              "4     614.216  5.02410   2.0  10.0\n",
              "...       ...      ...   ...   ...\n",
              "1199  522.509  3.89070   2.0   8.0\n",
              "1200  482.566  3.73680   2.0   8.0\n",
              "1201  446.536  3.25380   3.0   8.0\n",
              "1202  393.491  3.57520   0.0   7.0\n",
              "1203  458.540  1.13020   0.0   7.0\n",
              "\n",
              "[1204 rows x 4 columns]"
            ]
          },
          "metadata": {},
          "execution_count": 6
        }
      ]
    },
    {
      "cell_type": "code",
      "metadata": {
        "colab": {
          "base_uri": "https://localhost:8080/",
          "height": 424
        },
        "id": "VERizYeJvuRY",
        "outputId": "b7890a1e-2a60-4d1e-907c-0c8121df5028"
      },
      "source": [
        "df"
      ],
      "execution_count": 7,
      "outputs": [
        {
          "output_type": "execute_result",
          "data": {
            "text/html": [
              "<div>\n",
              "<style scoped>\n",
              "    .dataframe tbody tr th:only-of-type {\n",
              "        vertical-align: middle;\n",
              "    }\n",
              "\n",
              "    .dataframe tbody tr th {\n",
              "        vertical-align: top;\n",
              "    }\n",
              "\n",
              "    .dataframe thead th {\n",
              "        text-align: right;\n",
              "    }\n",
              "</style>\n",
              "<table border=\"1\" class=\"dataframe\">\n",
              "  <thead>\n",
              "    <tr style=\"text-align: right;\">\n",
              "      <th></th>\n",
              "      <th>molecule_chembl_id</th>\n",
              "      <th>canonical_smiles</th>\n",
              "      <th>standard_value</th>\n",
              "      <th>class</th>\n",
              "    </tr>\n",
              "  </thead>\n",
              "  <tbody>\n",
              "    <tr>\n",
              "      <th>0</th>\n",
              "      <td>CHEMBL1771409</td>\n",
              "      <td>Cc1cc(N/N=C/c2ccc(O)c(O)c2)nc2ccccc12</td>\n",
              "      <td>13200.0</td>\n",
              "      <td>inactive</td>\n",
              "    </tr>\n",
              "    <tr>\n",
              "      <th>1</th>\n",
              "      <td>CHEMBL1771411</td>\n",
              "      <td>Cc1cc(N/N=C/c2ccncc2)nc2ccccc12</td>\n",
              "      <td>4100.0</td>\n",
              "      <td>inactive</td>\n",
              "    </tr>\n",
              "    <tr>\n",
              "      <th>2</th>\n",
              "      <td>CHEMBL1933288</td>\n",
              "      <td>C[C@@H]1CCNC(=O)c2cc3ccc(C(=O)Nc4nc5ccccc5n4CC...</td>\n",
              "      <td>16.0</td>\n",
              "      <td>active</td>\n",
              "    </tr>\n",
              "    <tr>\n",
              "      <th>3</th>\n",
              "      <td>CHEMBL2012582</td>\n",
              "      <td>COc1cc(C(=O)N2CCC(N3CCN(C)CC3)CC2)ccc1Nc1ncc2c...</td>\n",
              "      <td>13.0</td>\n",
              "      <td>active</td>\n",
              "    </tr>\n",
              "    <tr>\n",
              "      <th>4</th>\n",
              "      <td>CHEMBL509032</td>\n",
              "      <td>COc1cc(N2CCC(N3CCN(C)CC3)CC2)ccc1Nc1ncc(Cl)c(N...</td>\n",
              "      <td>7.8</td>\n",
              "      <td>active</td>\n",
              "    </tr>\n",
              "    <tr>\n",
              "      <th>...</th>\n",
              "      <td>...</td>\n",
              "      <td>...</td>\n",
              "      <td>...</td>\n",
              "      <td>...</td>\n",
              "    </tr>\n",
              "    <tr>\n",
              "      <th>1199</th>\n",
              "      <td>CHEMBL4641263</td>\n",
              "      <td>COc1cc(NS(C)(=O)=O)ccc1Nc1ncc2c(n1)N(C)c1ccccc...</td>\n",
              "      <td>8894.0</td>\n",
              "      <td>inactive</td>\n",
              "    </tr>\n",
              "    <tr>\n",
              "      <th>1200</th>\n",
              "      <td>CHEMBL4635720</td>\n",
              "      <td>COc1cc(NS(C)(=O)=O)ccc1Nc1ncc2c(n1)N(C)c1ccccc...</td>\n",
              "      <td>683.0</td>\n",
              "      <td>inactive</td>\n",
              "    </tr>\n",
              "    <tr>\n",
              "      <th>1201</th>\n",
              "      <td>CHEMBL4645565</td>\n",
              "      <td>CC(O)(C#Cc1ccc(N2CCOCC2)c(Nc2ncnc3[nH]ccc23)c1...</td>\n",
              "      <td>94.6</td>\n",
              "      <td>active</td>\n",
              "    </tr>\n",
              "    <tr>\n",
              "      <th>1202</th>\n",
              "      <td>CHEMBL4560589</td>\n",
              "      <td>C[C@H]1CN(c2cc(-c3nn(C)c4ccc(OC5(C)CC5)cc34)nc...</td>\n",
              "      <td>6480.0</td>\n",
              "      <td>inactive</td>\n",
              "    </tr>\n",
              "    <tr>\n",
              "      <th>1203</th>\n",
              "      <td>CHEMBL4097778</td>\n",
              "      <td>CN1C(=O)[C@@H](N2CCc3cn(CC4CCS(=O)(=O)CC4)nc3C...</td>\n",
              "      <td>1000.0</td>\n",
              "      <td>inactive</td>\n",
              "    </tr>\n",
              "  </tbody>\n",
              "</table>\n",
              "<p>1204 rows × 4 columns</p>\n",
              "</div>"
            ],
            "text/plain": [
              "     molecule_chembl_id  ...     class\n",
              "0         CHEMBL1771409  ...  inactive\n",
              "1         CHEMBL1771411  ...  inactive\n",
              "2         CHEMBL1933288  ...    active\n",
              "3         CHEMBL2012582  ...    active\n",
              "4          CHEMBL509032  ...    active\n",
              "...                 ...  ...       ...\n",
              "1199      CHEMBL4641263  ...  inactive\n",
              "1200      CHEMBL4635720  ...  inactive\n",
              "1201      CHEMBL4645565  ...    active\n",
              "1202      CHEMBL4560589  ...  inactive\n",
              "1203      CHEMBL4097778  ...  inactive\n",
              "\n",
              "[1204 rows x 4 columns]"
            ]
          },
          "metadata": {},
          "execution_count": 7
        }
      ]
    },
    {
      "cell_type": "code",
      "metadata": {
        "id": "i7iONTgHvw-L"
      },
      "source": [
        "df_comb = pd.concat([df,df_lip],axis=1)"
      ],
      "execution_count": 8,
      "outputs": []
    },
    {
      "cell_type": "code",
      "metadata": {
        "colab": {
          "base_uri": "https://localhost:8080/",
          "height": 461
        },
        "id": "_xUg2Dl5v_bs",
        "outputId": "fe7f8921-410f-4e6c-d61b-17f57854bcad"
      },
      "source": [
        "df_comb"
      ],
      "execution_count": 9,
      "outputs": [
        {
          "output_type": "execute_result",
          "data": {
            "text/html": [
              "<div>\n",
              "<style scoped>\n",
              "    .dataframe tbody tr th:only-of-type {\n",
              "        vertical-align: middle;\n",
              "    }\n",
              "\n",
              "    .dataframe tbody tr th {\n",
              "        vertical-align: top;\n",
              "    }\n",
              "\n",
              "    .dataframe thead th {\n",
              "        text-align: right;\n",
              "    }\n",
              "</style>\n",
              "<table border=\"1\" class=\"dataframe\">\n",
              "  <thead>\n",
              "    <tr style=\"text-align: right;\">\n",
              "      <th></th>\n",
              "      <th>molecule_chembl_id</th>\n",
              "      <th>canonical_smiles</th>\n",
              "      <th>standard_value</th>\n",
              "      <th>class</th>\n",
              "      <th>MW</th>\n",
              "      <th>LogP</th>\n",
              "      <th>hDon</th>\n",
              "      <th>hAcc</th>\n",
              "    </tr>\n",
              "  </thead>\n",
              "  <tbody>\n",
              "    <tr>\n",
              "      <th>0</th>\n",
              "      <td>CHEMBL1771409</td>\n",
              "      <td>Cc1cc(N/N=C/c2ccc(O)c(O)c2)nc2ccccc12</td>\n",
              "      <td>13200.0</td>\n",
              "      <td>inactive</td>\n",
              "      <td>293.326</td>\n",
              "      <td>3.40042</td>\n",
              "      <td>3.0</td>\n",
              "      <td>5.0</td>\n",
              "    </tr>\n",
              "    <tr>\n",
              "      <th>1</th>\n",
              "      <td>CHEMBL1771411</td>\n",
              "      <td>Cc1cc(N/N=C/c2ccncc2)nc2ccccc12</td>\n",
              "      <td>4100.0</td>\n",
              "      <td>inactive</td>\n",
              "      <td>262.316</td>\n",
              "      <td>3.38422</td>\n",
              "      <td>1.0</td>\n",
              "      <td>4.0</td>\n",
              "    </tr>\n",
              "    <tr>\n",
              "      <th>2</th>\n",
              "      <td>CHEMBL1933288</td>\n",
              "      <td>C[C@@H]1CCNC(=O)c2cc3ccc(C(=O)Nc4nc5ccccc5n4CC...</td>\n",
              "      <td>16.0</td>\n",
              "      <td>active</td>\n",
              "      <td>458.566</td>\n",
              "      <td>3.88950</td>\n",
              "      <td>2.0</td>\n",
              "      <td>6.0</td>\n",
              "    </tr>\n",
              "    <tr>\n",
              "      <th>3</th>\n",
              "      <td>CHEMBL2012582</td>\n",
              "      <td>COc1cc(C(=O)N2CCC(N3CCN(C)CC3)CC2)ccc1Nc1ncc2c...</td>\n",
              "      <td>13.0</td>\n",
              "      <td>active</td>\n",
              "      <td>570.698</td>\n",
              "      <td>3.43870</td>\n",
              "      <td>1.0</td>\n",
              "      <td>9.0</td>\n",
              "    </tr>\n",
              "    <tr>\n",
              "      <th>4</th>\n",
              "      <td>CHEMBL509032</td>\n",
              "      <td>COc1cc(N2CCC(N3CCN(C)CC3)CC2)ccc1Nc1ncc(Cl)c(N...</td>\n",
              "      <td>7.8</td>\n",
              "      <td>active</td>\n",
              "      <td>614.216</td>\n",
              "      <td>5.02410</td>\n",
              "      <td>2.0</td>\n",
              "      <td>10.0</td>\n",
              "    </tr>\n",
              "    <tr>\n",
              "      <th>...</th>\n",
              "      <td>...</td>\n",
              "      <td>...</td>\n",
              "      <td>...</td>\n",
              "      <td>...</td>\n",
              "      <td>...</td>\n",
              "      <td>...</td>\n",
              "      <td>...</td>\n",
              "      <td>...</td>\n",
              "    </tr>\n",
              "    <tr>\n",
              "      <th>1199</th>\n",
              "      <td>CHEMBL4641263</td>\n",
              "      <td>COc1cc(NS(C)(=O)=O)ccc1Nc1ncc2c(n1)N(C)c1ccccc...</td>\n",
              "      <td>8894.0</td>\n",
              "      <td>inactive</td>\n",
              "      <td>522.509</td>\n",
              "      <td>3.89070</td>\n",
              "      <td>2.0</td>\n",
              "      <td>8.0</td>\n",
              "    </tr>\n",
              "    <tr>\n",
              "      <th>1200</th>\n",
              "      <td>CHEMBL4635720</td>\n",
              "      <td>COc1cc(NS(C)(=O)=O)ccc1Nc1ncc2c(n1)N(C)c1ccccc...</td>\n",
              "      <td>683.0</td>\n",
              "      <td>inactive</td>\n",
              "      <td>482.566</td>\n",
              "      <td>3.73680</td>\n",
              "      <td>2.0</td>\n",
              "      <td>8.0</td>\n",
              "    </tr>\n",
              "    <tr>\n",
              "      <th>1201</th>\n",
              "      <td>CHEMBL4645565</td>\n",
              "      <td>CC(O)(C#Cc1ccc(N2CCOCC2)c(Nc2ncnc3[nH]ccc23)c1...</td>\n",
              "      <td>94.6</td>\n",
              "      <td>active</td>\n",
              "      <td>446.536</td>\n",
              "      <td>3.25380</td>\n",
              "      <td>3.0</td>\n",
              "      <td>8.0</td>\n",
              "    </tr>\n",
              "    <tr>\n",
              "      <th>1202</th>\n",
              "      <td>CHEMBL4560589</td>\n",
              "      <td>C[C@H]1CN(c2cc(-c3nn(C)c4ccc(OC5(C)CC5)cc34)nc...</td>\n",
              "      <td>6480.0</td>\n",
              "      <td>inactive</td>\n",
              "      <td>393.491</td>\n",
              "      <td>3.57520</td>\n",
              "      <td>0.0</td>\n",
              "      <td>7.0</td>\n",
              "    </tr>\n",
              "    <tr>\n",
              "      <th>1203</th>\n",
              "      <td>CHEMBL4097778</td>\n",
              "      <td>CN1C(=O)[C@@H](N2CCc3cn(CC4CCS(=O)(=O)CC4)nc3C...</td>\n",
              "      <td>1000.0</td>\n",
              "      <td>inactive</td>\n",
              "      <td>458.540</td>\n",
              "      <td>1.13020</td>\n",
              "      <td>0.0</td>\n",
              "      <td>7.0</td>\n",
              "    </tr>\n",
              "  </tbody>\n",
              "</table>\n",
              "<p>1204 rows × 8 columns</p>\n",
              "</div>"
            ],
            "text/plain": [
              "     molecule_chembl_id  ...  hAcc\n",
              "0         CHEMBL1771409  ...   5.0\n",
              "1         CHEMBL1771411  ...   4.0\n",
              "2         CHEMBL1933288  ...   6.0\n",
              "3         CHEMBL2012582  ...   9.0\n",
              "4          CHEMBL509032  ...  10.0\n",
              "...                 ...  ...   ...\n",
              "1199      CHEMBL4641263  ...   8.0\n",
              "1200      CHEMBL4635720  ...   8.0\n",
              "1201      CHEMBL4645565  ...   8.0\n",
              "1202      CHEMBL4560589  ...   7.0\n",
              "1203      CHEMBL4097778  ...   7.0\n",
              "\n",
              "[1204 rows x 8 columns]"
            ]
          },
          "metadata": {},
          "execution_count": 9
        }
      ]
    },
    {
      "cell_type": "markdown",
      "metadata": {
        "id": "sw6lsa0_zJo_"
      },
      "source": [
        "#Convert IC50 to pIC50\n",
        "This transformation is done to reduce variablility in the standard value."
      ]
    },
    {
      "cell_type": "code",
      "metadata": {
        "id": "DRi5JR4z1zjG"
      },
      "source": [
        ""
      ],
      "execution_count": 9,
      "outputs": []
    },
    {
      "cell_type": "code",
      "metadata": {
        "id": "5SEPjK0ZzyC7"
      },
      "source": [
        "import numpy as np\n",
        "\n",
        "def pIC50(input):\n",
        "  p50 = []\n",
        "  for i in input['standard_value']:\n",
        "    molar = i*(10**-9)\n",
        "    p50.append(-np.log10(molar))\n",
        "\n",
        "  input['pIC50'] = p50\n",
        "  new_df = input.drop('standard_value',axis=1)\n",
        "\n",
        "  return new_df \n"
      ],
      "execution_count": 11,
      "outputs": []
    },
    {
      "cell_type": "code",
      "metadata": {
        "id": "cmYPmW-Q2_Nm"
      },
      "source": [
        "df_new = pIC50(df_comb)"
      ],
      "execution_count": 12,
      "outputs": []
    },
    {
      "cell_type": "code",
      "metadata": {
        "colab": {
          "base_uri": "https://localhost:8080/",
          "height": 461
        },
        "id": "KNS-SZ1e3kKK",
        "outputId": "0374095b-c932-4104-8a1a-73c37a2d4424"
      },
      "source": [
        "df_new"
      ],
      "execution_count": null,
      "outputs": [
        {
          "output_type": "execute_result",
          "data": {
            "text/html": [
              "<div>\n",
              "<style scoped>\n",
              "    .dataframe tbody tr th:only-of-type {\n",
              "        vertical-align: middle;\n",
              "    }\n",
              "\n",
              "    .dataframe tbody tr th {\n",
              "        vertical-align: top;\n",
              "    }\n",
              "\n",
              "    .dataframe thead th {\n",
              "        text-align: right;\n",
              "    }\n",
              "</style>\n",
              "<table border=\"1\" class=\"dataframe\">\n",
              "  <thead>\n",
              "    <tr style=\"text-align: right;\">\n",
              "      <th></th>\n",
              "      <th>molecule_chembl_id</th>\n",
              "      <th>canonical_smiles</th>\n",
              "      <th>class</th>\n",
              "      <th>MW</th>\n",
              "      <th>LogP</th>\n",
              "      <th>hDon</th>\n",
              "      <th>hAcc</th>\n",
              "      <th>pIC50</th>\n",
              "    </tr>\n",
              "  </thead>\n",
              "  <tbody>\n",
              "    <tr>\n",
              "      <th>0</th>\n",
              "      <td>CHEMBL1771409</td>\n",
              "      <td>Cc1cc(N/N=C/c2ccc(O)c(O)c2)nc2ccccc12</td>\n",
              "      <td>inactive</td>\n",
              "      <td>293.326</td>\n",
              "      <td>3.40042</td>\n",
              "      <td>3.0</td>\n",
              "      <td>5.0</td>\n",
              "      <td>4.879426</td>\n",
              "    </tr>\n",
              "    <tr>\n",
              "      <th>1</th>\n",
              "      <td>CHEMBL1771411</td>\n",
              "      <td>Cc1cc(N/N=C/c2ccncc2)nc2ccccc12</td>\n",
              "      <td>inactive</td>\n",
              "      <td>262.316</td>\n",
              "      <td>3.38422</td>\n",
              "      <td>1.0</td>\n",
              "      <td>4.0</td>\n",
              "      <td>5.387216</td>\n",
              "    </tr>\n",
              "    <tr>\n",
              "      <th>2</th>\n",
              "      <td>CHEMBL1933288</td>\n",
              "      <td>C[C@@H]1CCNC(=O)c2cc3ccc(C(=O)Nc4nc5ccccc5n4CC...</td>\n",
              "      <td>active</td>\n",
              "      <td>458.566</td>\n",
              "      <td>3.88950</td>\n",
              "      <td>2.0</td>\n",
              "      <td>6.0</td>\n",
              "      <td>7.795880</td>\n",
              "    </tr>\n",
              "    <tr>\n",
              "      <th>3</th>\n",
              "      <td>CHEMBL2012582</td>\n",
              "      <td>COc1cc(C(=O)N2CCC(N3CCN(C)CC3)CC2)ccc1Nc1ncc2c...</td>\n",
              "      <td>active</td>\n",
              "      <td>570.698</td>\n",
              "      <td>3.43870</td>\n",
              "      <td>1.0</td>\n",
              "      <td>9.0</td>\n",
              "      <td>7.886057</td>\n",
              "    </tr>\n",
              "    <tr>\n",
              "      <th>4</th>\n",
              "      <td>CHEMBL509032</td>\n",
              "      <td>COc1cc(N2CCC(N3CCN(C)CC3)CC2)ccc1Nc1ncc(Cl)c(N...</td>\n",
              "      <td>active</td>\n",
              "      <td>614.216</td>\n",
              "      <td>5.02410</td>\n",
              "      <td>2.0</td>\n",
              "      <td>10.0</td>\n",
              "      <td>8.107905</td>\n",
              "    </tr>\n",
              "    <tr>\n",
              "      <th>...</th>\n",
              "      <td>...</td>\n",
              "      <td>...</td>\n",
              "      <td>...</td>\n",
              "      <td>...</td>\n",
              "      <td>...</td>\n",
              "      <td>...</td>\n",
              "      <td>...</td>\n",
              "      <td>...</td>\n",
              "    </tr>\n",
              "    <tr>\n",
              "      <th>1199</th>\n",
              "      <td>CHEMBL4641263</td>\n",
              "      <td>COc1cc(NS(C)(=O)=O)ccc1Nc1ncc2c(n1)N(C)c1ccccc...</td>\n",
              "      <td>inactive</td>\n",
              "      <td>522.509</td>\n",
              "      <td>3.89070</td>\n",
              "      <td>2.0</td>\n",
              "      <td>8.0</td>\n",
              "      <td>5.050903</td>\n",
              "    </tr>\n",
              "    <tr>\n",
              "      <th>1200</th>\n",
              "      <td>CHEMBL4635720</td>\n",
              "      <td>COc1cc(NS(C)(=O)=O)ccc1Nc1ncc2c(n1)N(C)c1ccccc...</td>\n",
              "      <td>inactive</td>\n",
              "      <td>482.566</td>\n",
              "      <td>3.73680</td>\n",
              "      <td>2.0</td>\n",
              "      <td>8.0</td>\n",
              "      <td>6.165579</td>\n",
              "    </tr>\n",
              "    <tr>\n",
              "      <th>1201</th>\n",
              "      <td>CHEMBL4645565</td>\n",
              "      <td>CC(O)(C#Cc1ccc(N2CCOCC2)c(Nc2ncnc3[nH]ccc23)c1...</td>\n",
              "      <td>active</td>\n",
              "      <td>446.536</td>\n",
              "      <td>3.25380</td>\n",
              "      <td>3.0</td>\n",
              "      <td>8.0</td>\n",
              "      <td>7.024109</td>\n",
              "    </tr>\n",
              "    <tr>\n",
              "      <th>1202</th>\n",
              "      <td>CHEMBL4560589</td>\n",
              "      <td>C[C@H]1CN(c2cc(-c3nn(C)c4ccc(OC5(C)CC5)cc34)nc...</td>\n",
              "      <td>inactive</td>\n",
              "      <td>393.491</td>\n",
              "      <td>3.57520</td>\n",
              "      <td>0.0</td>\n",
              "      <td>7.0</td>\n",
              "      <td>5.188425</td>\n",
              "    </tr>\n",
              "    <tr>\n",
              "      <th>1203</th>\n",
              "      <td>CHEMBL4097778</td>\n",
              "      <td>CN1C(=O)[C@@H](N2CCc3cn(CC4CCS(=O)(=O)CC4)nc3C...</td>\n",
              "      <td>inactive</td>\n",
              "      <td>458.540</td>\n",
              "      <td>1.13020</td>\n",
              "      <td>0.0</td>\n",
              "      <td>7.0</td>\n",
              "      <td>6.000000</td>\n",
              "    </tr>\n",
              "  </tbody>\n",
              "</table>\n",
              "<p>1204 rows × 8 columns</p>\n",
              "</div>"
            ],
            "text/plain": [
              "     molecule_chembl_id  ...     pIC50\n",
              "0         CHEMBL1771409  ...  4.879426\n",
              "1         CHEMBL1771411  ...  5.387216\n",
              "2         CHEMBL1933288  ...  7.795880\n",
              "3         CHEMBL2012582  ...  7.886057\n",
              "4          CHEMBL509032  ...  8.107905\n",
              "...                 ...  ...       ...\n",
              "1199      CHEMBL4641263  ...  5.050903\n",
              "1200      CHEMBL4635720  ...  6.165579\n",
              "1201      CHEMBL4645565  ...  7.024109\n",
              "1202      CHEMBL4560589  ...  5.188425\n",
              "1203      CHEMBL4097778  ...  6.000000\n",
              "\n",
              "[1204 rows x 8 columns]"
            ]
          },
          "metadata": {},
          "execution_count": 13
        }
      ]
    },
    {
      "cell_type": "code",
      "metadata": {
        "id": "RxIujbPJ8IPW"
      },
      "source": [
        "df_new.to_csv('lrrk2_ml_data.csv', index=False)"
      ],
      "execution_count": 15,
      "outputs": []
    },
    {
      "cell_type": "code",
      "metadata": {
        "id": "PF38dCli4Q9W"
      },
      "source": [
        "df_final = df_new"
      ],
      "execution_count": 16,
      "outputs": []
    },
    {
      "cell_type": "markdown",
      "metadata": {
        "id": "qsLheqMz81vb"
      },
      "source": [
        ""
      ]
    },
    {
      "cell_type": "code",
      "metadata": {
        "colab": {
          "base_uri": "https://localhost:8080/",
          "height": 461
        },
        "id": "iTtYUnQn4XwI",
        "outputId": "4b24de65-6c5d-4eda-d481-71a2e47cae38"
      },
      "source": [
        "df_final"
      ],
      "execution_count": 17,
      "outputs": [
        {
          "output_type": "execute_result",
          "data": {
            "text/html": [
              "<div>\n",
              "<style scoped>\n",
              "    .dataframe tbody tr th:only-of-type {\n",
              "        vertical-align: middle;\n",
              "    }\n",
              "\n",
              "    .dataframe tbody tr th {\n",
              "        vertical-align: top;\n",
              "    }\n",
              "\n",
              "    .dataframe thead th {\n",
              "        text-align: right;\n",
              "    }\n",
              "</style>\n",
              "<table border=\"1\" class=\"dataframe\">\n",
              "  <thead>\n",
              "    <tr style=\"text-align: right;\">\n",
              "      <th></th>\n",
              "      <th>molecule_chembl_id</th>\n",
              "      <th>canonical_smiles</th>\n",
              "      <th>class</th>\n",
              "      <th>MW</th>\n",
              "      <th>LogP</th>\n",
              "      <th>hDon</th>\n",
              "      <th>hAcc</th>\n",
              "      <th>pIC50</th>\n",
              "    </tr>\n",
              "  </thead>\n",
              "  <tbody>\n",
              "    <tr>\n",
              "      <th>0</th>\n",
              "      <td>CHEMBL1771409</td>\n",
              "      <td>Cc1cc(N/N=C/c2ccc(O)c(O)c2)nc2ccccc12</td>\n",
              "      <td>inactive</td>\n",
              "      <td>293.326</td>\n",
              "      <td>3.40042</td>\n",
              "      <td>3.0</td>\n",
              "      <td>5.0</td>\n",
              "      <td>4.879426</td>\n",
              "    </tr>\n",
              "    <tr>\n",
              "      <th>1</th>\n",
              "      <td>CHEMBL1771411</td>\n",
              "      <td>Cc1cc(N/N=C/c2ccncc2)nc2ccccc12</td>\n",
              "      <td>inactive</td>\n",
              "      <td>262.316</td>\n",
              "      <td>3.38422</td>\n",
              "      <td>1.0</td>\n",
              "      <td>4.0</td>\n",
              "      <td>5.387216</td>\n",
              "    </tr>\n",
              "    <tr>\n",
              "      <th>2</th>\n",
              "      <td>CHEMBL1933288</td>\n",
              "      <td>C[C@@H]1CCNC(=O)c2cc3ccc(C(=O)Nc4nc5ccccc5n4CC...</td>\n",
              "      <td>active</td>\n",
              "      <td>458.566</td>\n",
              "      <td>3.88950</td>\n",
              "      <td>2.0</td>\n",
              "      <td>6.0</td>\n",
              "      <td>7.795880</td>\n",
              "    </tr>\n",
              "    <tr>\n",
              "      <th>3</th>\n",
              "      <td>CHEMBL2012582</td>\n",
              "      <td>COc1cc(C(=O)N2CCC(N3CCN(C)CC3)CC2)ccc1Nc1ncc2c...</td>\n",
              "      <td>active</td>\n",
              "      <td>570.698</td>\n",
              "      <td>3.43870</td>\n",
              "      <td>1.0</td>\n",
              "      <td>9.0</td>\n",
              "      <td>7.886057</td>\n",
              "    </tr>\n",
              "    <tr>\n",
              "      <th>4</th>\n",
              "      <td>CHEMBL509032</td>\n",
              "      <td>COc1cc(N2CCC(N3CCN(C)CC3)CC2)ccc1Nc1ncc(Cl)c(N...</td>\n",
              "      <td>active</td>\n",
              "      <td>614.216</td>\n",
              "      <td>5.02410</td>\n",
              "      <td>2.0</td>\n",
              "      <td>10.0</td>\n",
              "      <td>8.107905</td>\n",
              "    </tr>\n",
              "    <tr>\n",
              "      <th>...</th>\n",
              "      <td>...</td>\n",
              "      <td>...</td>\n",
              "      <td>...</td>\n",
              "      <td>...</td>\n",
              "      <td>...</td>\n",
              "      <td>...</td>\n",
              "      <td>...</td>\n",
              "      <td>...</td>\n",
              "    </tr>\n",
              "    <tr>\n",
              "      <th>1199</th>\n",
              "      <td>CHEMBL4641263</td>\n",
              "      <td>COc1cc(NS(C)(=O)=O)ccc1Nc1ncc2c(n1)N(C)c1ccccc...</td>\n",
              "      <td>inactive</td>\n",
              "      <td>522.509</td>\n",
              "      <td>3.89070</td>\n",
              "      <td>2.0</td>\n",
              "      <td>8.0</td>\n",
              "      <td>5.050903</td>\n",
              "    </tr>\n",
              "    <tr>\n",
              "      <th>1200</th>\n",
              "      <td>CHEMBL4635720</td>\n",
              "      <td>COc1cc(NS(C)(=O)=O)ccc1Nc1ncc2c(n1)N(C)c1ccccc...</td>\n",
              "      <td>inactive</td>\n",
              "      <td>482.566</td>\n",
              "      <td>3.73680</td>\n",
              "      <td>2.0</td>\n",
              "      <td>8.0</td>\n",
              "      <td>6.165579</td>\n",
              "    </tr>\n",
              "    <tr>\n",
              "      <th>1201</th>\n",
              "      <td>CHEMBL4645565</td>\n",
              "      <td>CC(O)(C#Cc1ccc(N2CCOCC2)c(Nc2ncnc3[nH]ccc23)c1...</td>\n",
              "      <td>active</td>\n",
              "      <td>446.536</td>\n",
              "      <td>3.25380</td>\n",
              "      <td>3.0</td>\n",
              "      <td>8.0</td>\n",
              "      <td>7.024109</td>\n",
              "    </tr>\n",
              "    <tr>\n",
              "      <th>1202</th>\n",
              "      <td>CHEMBL4560589</td>\n",
              "      <td>C[C@H]1CN(c2cc(-c3nn(C)c4ccc(OC5(C)CC5)cc34)nc...</td>\n",
              "      <td>inactive</td>\n",
              "      <td>393.491</td>\n",
              "      <td>3.57520</td>\n",
              "      <td>0.0</td>\n",
              "      <td>7.0</td>\n",
              "      <td>5.188425</td>\n",
              "    </tr>\n",
              "    <tr>\n",
              "      <th>1203</th>\n",
              "      <td>CHEMBL4097778</td>\n",
              "      <td>CN1C(=O)[C@@H](N2CCc3cn(CC4CCS(=O)(=O)CC4)nc3C...</td>\n",
              "      <td>inactive</td>\n",
              "      <td>458.540</td>\n",
              "      <td>1.13020</td>\n",
              "      <td>0.0</td>\n",
              "      <td>7.0</td>\n",
              "      <td>6.000000</td>\n",
              "    </tr>\n",
              "  </tbody>\n",
              "</table>\n",
              "<p>1204 rows × 8 columns</p>\n",
              "</div>"
            ],
            "text/plain": [
              "     molecule_chembl_id  ...     pIC50\n",
              "0         CHEMBL1771409  ...  4.879426\n",
              "1         CHEMBL1771411  ...  5.387216\n",
              "2         CHEMBL1933288  ...  7.795880\n",
              "3         CHEMBL2012582  ...  7.886057\n",
              "4          CHEMBL509032  ...  8.107905\n",
              "...                 ...  ...       ...\n",
              "1199      CHEMBL4641263  ...  5.050903\n",
              "1200      CHEMBL4635720  ...  6.165579\n",
              "1201      CHEMBL4645565  ...  7.024109\n",
              "1202      CHEMBL4560589  ...  5.188425\n",
              "1203      CHEMBL4097778  ...  6.000000\n",
              "\n",
              "[1204 rows x 8 columns]"
            ]
          },
          "metadata": {},
          "execution_count": 17
        }
      ]
    },
    {
      "cell_type": "code",
      "metadata": {
        "colab": {
          "base_uri": "https://localhost:8080/"
        },
        "id": "Lw3O39rK4xbs",
        "outputId": "6c35faac-557b-4174-beca-2f0f3208c467"
      },
      "source": [
        "df_final.pIC50.describe()"
      ],
      "execution_count": null,
      "outputs": [
        {
          "output_type": "execute_result",
          "data": {
            "text/plain": [
              "count    1204.000000\n",
              "mean        7.206536\n",
              "std         1.025880\n",
              "min         3.995335\n",
              "25%         6.555955\n",
              "50%         7.366532\n",
              "75%         7.955660\n",
              "max        12.000000\n",
              "Name: pIC50, dtype: float64"
            ]
          },
          "metadata": {},
          "execution_count": 19
        }
      ]
    },
    {
      "cell_type": "markdown",
      "metadata": {
        "id": "GDFZO-Km5F7r"
      },
      "source": [
        "#Remove Intermediate \n",
        "This project is only going to take into account active and inactive drugs"
      ]
    },
    {
      "cell_type": "code",
      "metadata": {
        "colab": {
          "base_uri": "https://localhost:8080/",
          "height": 461
        },
        "id": "WNhx2Pyx5XF8",
        "outputId": "78dd8c58-49fb-430e-e638-c4bd8ef10348"
      },
      "source": [
        "df_final.rename(columns={'class':'bio_class'}, inplace=True)\n",
        "df_final"
      ],
      "execution_count": 18,
      "outputs": [
        {
          "output_type": "execute_result",
          "data": {
            "text/html": [
              "<div>\n",
              "<style scoped>\n",
              "    .dataframe tbody tr th:only-of-type {\n",
              "        vertical-align: middle;\n",
              "    }\n",
              "\n",
              "    .dataframe tbody tr th {\n",
              "        vertical-align: top;\n",
              "    }\n",
              "\n",
              "    .dataframe thead th {\n",
              "        text-align: right;\n",
              "    }\n",
              "</style>\n",
              "<table border=\"1\" class=\"dataframe\">\n",
              "  <thead>\n",
              "    <tr style=\"text-align: right;\">\n",
              "      <th></th>\n",
              "      <th>molecule_chembl_id</th>\n",
              "      <th>canonical_smiles</th>\n",
              "      <th>bio_class</th>\n",
              "      <th>MW</th>\n",
              "      <th>LogP</th>\n",
              "      <th>hDon</th>\n",
              "      <th>hAcc</th>\n",
              "      <th>pIC50</th>\n",
              "    </tr>\n",
              "  </thead>\n",
              "  <tbody>\n",
              "    <tr>\n",
              "      <th>0</th>\n",
              "      <td>CHEMBL1771409</td>\n",
              "      <td>Cc1cc(N/N=C/c2ccc(O)c(O)c2)nc2ccccc12</td>\n",
              "      <td>inactive</td>\n",
              "      <td>293.326</td>\n",
              "      <td>3.40042</td>\n",
              "      <td>3.0</td>\n",
              "      <td>5.0</td>\n",
              "      <td>4.879426</td>\n",
              "    </tr>\n",
              "    <tr>\n",
              "      <th>1</th>\n",
              "      <td>CHEMBL1771411</td>\n",
              "      <td>Cc1cc(N/N=C/c2ccncc2)nc2ccccc12</td>\n",
              "      <td>inactive</td>\n",
              "      <td>262.316</td>\n",
              "      <td>3.38422</td>\n",
              "      <td>1.0</td>\n",
              "      <td>4.0</td>\n",
              "      <td>5.387216</td>\n",
              "    </tr>\n",
              "    <tr>\n",
              "      <th>2</th>\n",
              "      <td>CHEMBL1933288</td>\n",
              "      <td>C[C@@H]1CCNC(=O)c2cc3ccc(C(=O)Nc4nc5ccccc5n4CC...</td>\n",
              "      <td>active</td>\n",
              "      <td>458.566</td>\n",
              "      <td>3.88950</td>\n",
              "      <td>2.0</td>\n",
              "      <td>6.0</td>\n",
              "      <td>7.795880</td>\n",
              "    </tr>\n",
              "    <tr>\n",
              "      <th>3</th>\n",
              "      <td>CHEMBL2012582</td>\n",
              "      <td>COc1cc(C(=O)N2CCC(N3CCN(C)CC3)CC2)ccc1Nc1ncc2c...</td>\n",
              "      <td>active</td>\n",
              "      <td>570.698</td>\n",
              "      <td>3.43870</td>\n",
              "      <td>1.0</td>\n",
              "      <td>9.0</td>\n",
              "      <td>7.886057</td>\n",
              "    </tr>\n",
              "    <tr>\n",
              "      <th>4</th>\n",
              "      <td>CHEMBL509032</td>\n",
              "      <td>COc1cc(N2CCC(N3CCN(C)CC3)CC2)ccc1Nc1ncc(Cl)c(N...</td>\n",
              "      <td>active</td>\n",
              "      <td>614.216</td>\n",
              "      <td>5.02410</td>\n",
              "      <td>2.0</td>\n",
              "      <td>10.0</td>\n",
              "      <td>8.107905</td>\n",
              "    </tr>\n",
              "    <tr>\n",
              "      <th>...</th>\n",
              "      <td>...</td>\n",
              "      <td>...</td>\n",
              "      <td>...</td>\n",
              "      <td>...</td>\n",
              "      <td>...</td>\n",
              "      <td>...</td>\n",
              "      <td>...</td>\n",
              "      <td>...</td>\n",
              "    </tr>\n",
              "    <tr>\n",
              "      <th>1199</th>\n",
              "      <td>CHEMBL4641263</td>\n",
              "      <td>COc1cc(NS(C)(=O)=O)ccc1Nc1ncc2c(n1)N(C)c1ccccc...</td>\n",
              "      <td>inactive</td>\n",
              "      <td>522.509</td>\n",
              "      <td>3.89070</td>\n",
              "      <td>2.0</td>\n",
              "      <td>8.0</td>\n",
              "      <td>5.050903</td>\n",
              "    </tr>\n",
              "    <tr>\n",
              "      <th>1200</th>\n",
              "      <td>CHEMBL4635720</td>\n",
              "      <td>COc1cc(NS(C)(=O)=O)ccc1Nc1ncc2c(n1)N(C)c1ccccc...</td>\n",
              "      <td>inactive</td>\n",
              "      <td>482.566</td>\n",
              "      <td>3.73680</td>\n",
              "      <td>2.0</td>\n",
              "      <td>8.0</td>\n",
              "      <td>6.165579</td>\n",
              "    </tr>\n",
              "    <tr>\n",
              "      <th>1201</th>\n",
              "      <td>CHEMBL4645565</td>\n",
              "      <td>CC(O)(C#Cc1ccc(N2CCOCC2)c(Nc2ncnc3[nH]ccc23)c1...</td>\n",
              "      <td>active</td>\n",
              "      <td>446.536</td>\n",
              "      <td>3.25380</td>\n",
              "      <td>3.0</td>\n",
              "      <td>8.0</td>\n",
              "      <td>7.024109</td>\n",
              "    </tr>\n",
              "    <tr>\n",
              "      <th>1202</th>\n",
              "      <td>CHEMBL4560589</td>\n",
              "      <td>C[C@H]1CN(c2cc(-c3nn(C)c4ccc(OC5(C)CC5)cc34)nc...</td>\n",
              "      <td>inactive</td>\n",
              "      <td>393.491</td>\n",
              "      <td>3.57520</td>\n",
              "      <td>0.0</td>\n",
              "      <td>7.0</td>\n",
              "      <td>5.188425</td>\n",
              "    </tr>\n",
              "    <tr>\n",
              "      <th>1203</th>\n",
              "      <td>CHEMBL4097778</td>\n",
              "      <td>CN1C(=O)[C@@H](N2CCc3cn(CC4CCS(=O)(=O)CC4)nc3C...</td>\n",
              "      <td>inactive</td>\n",
              "      <td>458.540</td>\n",
              "      <td>1.13020</td>\n",
              "      <td>0.0</td>\n",
              "      <td>7.0</td>\n",
              "      <td>6.000000</td>\n",
              "    </tr>\n",
              "  </tbody>\n",
              "</table>\n",
              "<p>1204 rows × 8 columns</p>\n",
              "</div>"
            ],
            "text/plain": [
              "     molecule_chembl_id  ...     pIC50\n",
              "0         CHEMBL1771409  ...  4.879426\n",
              "1         CHEMBL1771411  ...  5.387216\n",
              "2         CHEMBL1933288  ...  7.795880\n",
              "3         CHEMBL2012582  ...  7.886057\n",
              "4          CHEMBL509032  ...  8.107905\n",
              "...                 ...  ...       ...\n",
              "1199      CHEMBL4641263  ...  5.050903\n",
              "1200      CHEMBL4635720  ...  6.165579\n",
              "1201      CHEMBL4645565  ...  7.024109\n",
              "1202      CHEMBL4560589  ...  5.188425\n",
              "1203      CHEMBL4097778  ...  6.000000\n",
              "\n",
              "[1204 rows x 8 columns]"
            ]
          },
          "metadata": {},
          "execution_count": 18
        }
      ]
    },
    {
      "cell_type": "code",
      "metadata": {
        "id": "V3RdmgVo7ggr"
      },
      "source": [
        "df_ai = df_final[df_final.bio_class != 'intermediate']"
      ],
      "execution_count": 19,
      "outputs": []
    },
    {
      "cell_type": "code",
      "metadata": {
        "colab": {
          "base_uri": "https://localhost:8080/",
          "height": 461
        },
        "id": "P16aY6A87sef",
        "outputId": "b2cff17d-f839-4f54-b862-35d4da7b44ff"
      },
      "source": [
        "df_ai"
      ],
      "execution_count": 20,
      "outputs": [
        {
          "output_type": "execute_result",
          "data": {
            "text/html": [
              "<div>\n",
              "<style scoped>\n",
              "    .dataframe tbody tr th:only-of-type {\n",
              "        vertical-align: middle;\n",
              "    }\n",
              "\n",
              "    .dataframe tbody tr th {\n",
              "        vertical-align: top;\n",
              "    }\n",
              "\n",
              "    .dataframe thead th {\n",
              "        text-align: right;\n",
              "    }\n",
              "</style>\n",
              "<table border=\"1\" class=\"dataframe\">\n",
              "  <thead>\n",
              "    <tr style=\"text-align: right;\">\n",
              "      <th></th>\n",
              "      <th>molecule_chembl_id</th>\n",
              "      <th>canonical_smiles</th>\n",
              "      <th>bio_class</th>\n",
              "      <th>MW</th>\n",
              "      <th>LogP</th>\n",
              "      <th>hDon</th>\n",
              "      <th>hAcc</th>\n",
              "      <th>pIC50</th>\n",
              "    </tr>\n",
              "  </thead>\n",
              "  <tbody>\n",
              "    <tr>\n",
              "      <th>0</th>\n",
              "      <td>CHEMBL1771409</td>\n",
              "      <td>Cc1cc(N/N=C/c2ccc(O)c(O)c2)nc2ccccc12</td>\n",
              "      <td>inactive</td>\n",
              "      <td>293.326</td>\n",
              "      <td>3.40042</td>\n",
              "      <td>3.0</td>\n",
              "      <td>5.0</td>\n",
              "      <td>4.879426</td>\n",
              "    </tr>\n",
              "    <tr>\n",
              "      <th>1</th>\n",
              "      <td>CHEMBL1771411</td>\n",
              "      <td>Cc1cc(N/N=C/c2ccncc2)nc2ccccc12</td>\n",
              "      <td>inactive</td>\n",
              "      <td>262.316</td>\n",
              "      <td>3.38422</td>\n",
              "      <td>1.0</td>\n",
              "      <td>4.0</td>\n",
              "      <td>5.387216</td>\n",
              "    </tr>\n",
              "    <tr>\n",
              "      <th>2</th>\n",
              "      <td>CHEMBL1933288</td>\n",
              "      <td>C[C@@H]1CCNC(=O)c2cc3ccc(C(=O)Nc4nc5ccccc5n4CC...</td>\n",
              "      <td>active</td>\n",
              "      <td>458.566</td>\n",
              "      <td>3.88950</td>\n",
              "      <td>2.0</td>\n",
              "      <td>6.0</td>\n",
              "      <td>7.795880</td>\n",
              "    </tr>\n",
              "    <tr>\n",
              "      <th>3</th>\n",
              "      <td>CHEMBL2012582</td>\n",
              "      <td>COc1cc(C(=O)N2CCC(N3CCN(C)CC3)CC2)ccc1Nc1ncc2c...</td>\n",
              "      <td>active</td>\n",
              "      <td>570.698</td>\n",
              "      <td>3.43870</td>\n",
              "      <td>1.0</td>\n",
              "      <td>9.0</td>\n",
              "      <td>7.886057</td>\n",
              "    </tr>\n",
              "    <tr>\n",
              "      <th>4</th>\n",
              "      <td>CHEMBL509032</td>\n",
              "      <td>COc1cc(N2CCC(N3CCN(C)CC3)CC2)ccc1Nc1ncc(Cl)c(N...</td>\n",
              "      <td>active</td>\n",
              "      <td>614.216</td>\n",
              "      <td>5.02410</td>\n",
              "      <td>2.0</td>\n",
              "      <td>10.0</td>\n",
              "      <td>8.107905</td>\n",
              "    </tr>\n",
              "    <tr>\n",
              "      <th>...</th>\n",
              "      <td>...</td>\n",
              "      <td>...</td>\n",
              "      <td>...</td>\n",
              "      <td>...</td>\n",
              "      <td>...</td>\n",
              "      <td>...</td>\n",
              "      <td>...</td>\n",
              "      <td>...</td>\n",
              "    </tr>\n",
              "    <tr>\n",
              "      <th>1199</th>\n",
              "      <td>CHEMBL4641263</td>\n",
              "      <td>COc1cc(NS(C)(=O)=O)ccc1Nc1ncc2c(n1)N(C)c1ccccc...</td>\n",
              "      <td>inactive</td>\n",
              "      <td>522.509</td>\n",
              "      <td>3.89070</td>\n",
              "      <td>2.0</td>\n",
              "      <td>8.0</td>\n",
              "      <td>5.050903</td>\n",
              "    </tr>\n",
              "    <tr>\n",
              "      <th>1200</th>\n",
              "      <td>CHEMBL4635720</td>\n",
              "      <td>COc1cc(NS(C)(=O)=O)ccc1Nc1ncc2c(n1)N(C)c1ccccc...</td>\n",
              "      <td>inactive</td>\n",
              "      <td>482.566</td>\n",
              "      <td>3.73680</td>\n",
              "      <td>2.0</td>\n",
              "      <td>8.0</td>\n",
              "      <td>6.165579</td>\n",
              "    </tr>\n",
              "    <tr>\n",
              "      <th>1201</th>\n",
              "      <td>CHEMBL4645565</td>\n",
              "      <td>CC(O)(C#Cc1ccc(N2CCOCC2)c(Nc2ncnc3[nH]ccc23)c1...</td>\n",
              "      <td>active</td>\n",
              "      <td>446.536</td>\n",
              "      <td>3.25380</td>\n",
              "      <td>3.0</td>\n",
              "      <td>8.0</td>\n",
              "      <td>7.024109</td>\n",
              "    </tr>\n",
              "    <tr>\n",
              "      <th>1202</th>\n",
              "      <td>CHEMBL4560589</td>\n",
              "      <td>C[C@H]1CN(c2cc(-c3nn(C)c4ccc(OC5(C)CC5)cc34)nc...</td>\n",
              "      <td>inactive</td>\n",
              "      <td>393.491</td>\n",
              "      <td>3.57520</td>\n",
              "      <td>0.0</td>\n",
              "      <td>7.0</td>\n",
              "      <td>5.188425</td>\n",
              "    </tr>\n",
              "    <tr>\n",
              "      <th>1203</th>\n",
              "      <td>CHEMBL4097778</td>\n",
              "      <td>CN1C(=O)[C@@H](N2CCc3cn(CC4CCS(=O)(=O)CC4)nc3C...</td>\n",
              "      <td>inactive</td>\n",
              "      <td>458.540</td>\n",
              "      <td>1.13020</td>\n",
              "      <td>0.0</td>\n",
              "      <td>7.0</td>\n",
              "      <td>6.000000</td>\n",
              "    </tr>\n",
              "  </tbody>\n",
              "</table>\n",
              "<p>1084 rows × 8 columns</p>\n",
              "</div>"
            ],
            "text/plain": [
              "     molecule_chembl_id  ...     pIC50\n",
              "0         CHEMBL1771409  ...  4.879426\n",
              "1         CHEMBL1771411  ...  5.387216\n",
              "2         CHEMBL1933288  ...  7.795880\n",
              "3         CHEMBL2012582  ...  7.886057\n",
              "4          CHEMBL509032  ...  8.107905\n",
              "...                 ...  ...       ...\n",
              "1199      CHEMBL4641263  ...  5.050903\n",
              "1200      CHEMBL4635720  ...  6.165579\n",
              "1201      CHEMBL4645565  ...  7.024109\n",
              "1202      CHEMBL4560589  ...  5.188425\n",
              "1203      CHEMBL4097778  ...  6.000000\n",
              "\n",
              "[1084 rows x 8 columns]"
            ]
          },
          "metadata": {},
          "execution_count": 20
        }
      ]
    },
    {
      "cell_type": "code",
      "metadata": {
        "id": "kY2JLIoQ9elM"
      },
      "source": [
        "df_ai.to_csv('lrrk2_stat_data.csv', index=False)"
      ],
      "execution_count": 22,
      "outputs": []
    },
    {
      "cell_type": "markdown",
      "metadata": {
        "id": "lg3yO1u3ItJM"
      },
      "source": [
        "#Import Library"
      ]
    },
    {
      "cell_type": "code",
      "metadata": {
        "id": "z8Six4MHIw0D"
      },
      "source": [
        "import seaborn as sns\n",
        "sns.set(style='ticks')\n",
        "import matplotlib.pyplot as plt"
      ],
      "execution_count": null,
      "outputs": []
    },
    {
      "cell_type": "markdown",
      "metadata": {
        "id": "K_JYvbaKI92J"
      },
      "source": [
        "##Frequency of active and inactive"
      ]
    },
    {
      "cell_type": "code",
      "metadata": {
        "colab": {
          "base_uri": "https://localhost:8080/",
          "height": 396
        },
        "id": "lzukgqv_JBJ6",
        "outputId": "716a986d-7c8f-4d0a-f49c-bf13d1486a93"
      },
      "source": [
        "plt.figure(figsize=(6.0,6.0))\n",
        "\n",
        "sns.countplot(x='bio_class', data=df_ai, edgecolor='black')\n",
        "\n",
        "plt.xlabel(\"Bioactivity Class\",fontsize=16)\n",
        "plt.ylabel(\"Frequency\", fontsize=16)\n",
        "\n",
        "plt.savefig('bioactivity_plot.pdf')"
      ],
      "execution_count": null,
      "outputs": [
        {
          "output_type": "display_data",
          "data": {
            "image/png": "[encoded data removed]",
            "text/plain": [
              "<Figure size 432x432 with 1 Axes>"
            ]
          },
          "metadata": {}
        }
      ]
    },
    {
      "cell_type": "markdown",
      "metadata": {
        "id": "DmlBxJSB9o2J"
      },
      "source": [
        "##BoxPlot for MW"
      ]
    },
    {
      "cell_type": "code",
      "metadata": {
        "colab": {
          "base_uri": "https://localhost:8080/",
          "height": 395
        },
        "id": "2IThi3MS9x7P",
        "outputId": "171118a2-0f66-40c8-a71b-c5012495ffff"
      },
      "source": [
        "plt.figure(figsize=(6.0, 6.0))\n",
        "\n",
        "sns.boxplot(x = 'bio_class', y = 'MW', data = df_ai)\n",
        "\n",
        "plt.xlabel('Bioactivity class', fontsize=14, fontweight='bold')\n",
        "plt.ylabel('MW', fontsize=14, fontweight='bold')\n",
        "\n",
        "plt.savefig('plot_MW.pdf')"
      ],
      "execution_count": null,
      "outputs": [
        {
          "output_type": "display_data",
          "data": {
            "image/png": "[encoded data removed]",
            "text/plain": [
              "<Figure size 432x432 with 1 Axes>"
            ]
          },
          "metadata": {}
        }
      ]
    },
    {
      "cell_type": "markdown",
      "metadata": {
        "id": "sqHByKlW-kTY"
      },
      "source": [
        "##Boxplot for LogP"
      ]
    },
    {
      "cell_type": "code",
      "metadata": {
        "colab": {
          "base_uri": "https://localhost:8080/",
          "height": 395
        },
        "id": "VVhdDnKS-pQm",
        "outputId": "fdf119de-2852-4f1d-9b92-f408e0ab2be0"
      },
      "source": [
        "plt.figure(figsize=(6.0, 6.0))\n",
        "\n",
        "sns.boxplot(x = 'bio_class', y = 'LogP', data = df_ai)\n",
        "\n",
        "plt.xlabel('Bioactivity class', fontsize=14, fontweight='bold')\n",
        "plt.ylabel('LogP', fontsize=14, fontweight='bold')\n",
        "\n",
        "plt.savefig('plot_LogP.pdf')"
      ],
      "execution_count": null,
      "outputs": [
        {
          "output_type": "display_data",
          "data": {
            "image/png": "[encoded data removed]",
            "text/plain": [
              "<Figure size 432x432 with 1 Axes>"
            ]
          },
          "metadata": {}
        }
      ]
    },
    {
      "cell_type": "markdown",
      "metadata": {
        "id": "wG2Ooveg_KoH"
      },
      "source": [
        "##Boxplot for hDon"
      ]
    },
    {
      "cell_type": "code",
      "metadata": {
        "colab": {
          "base_uri": "https://localhost:8080/",
          "height": 395
        },
        "id": "ZTpHUn4l_S6P",
        "outputId": "e80c62a4-480a-4c05-8ac8-95e0c3b829fe"
      },
      "source": [
        "plt.figure(figsize=(6.0, 6.0))\n",
        "\n",
        "sns.boxplot(x = 'bio_class', y = 'hDon', data = df_ai)\n",
        "\n",
        "plt.xlabel('Bioactivity class', fontsize=14, fontweight='bold')\n",
        "plt.ylabel('hDon', fontsize=14, fontweight='bold')\n",
        "\n",
        "plt.savefig('plot_hDon.pdf')"
      ],
      "execution_count": null,
      "outputs": [
        {
          "output_type": "display_data",
          "data": {
            "image/png": "[encoded data removed]",
            "text/plain": [
              "<Figure size 432x432 with 1 Axes>"
            ]
          },
          "metadata": {}
        }
      ]
    },
    {
      "cell_type": "markdown",
      "metadata": {
        "id": "hnYNE5L4_mlW"
      },
      "source": [
        "##Boxplot for hAcc"
      ]
    },
    {
      "cell_type": "code",
      "metadata": {
        "colab": {
          "base_uri": "https://localhost:8080/",
          "height": 395
        },
        "id": "YWbhxFuS_sa3",
        "outputId": "3a003868-cf73-4f0f-bc44-7d7f9740b08f"
      },
      "source": [
        "plt.figure(figsize=(6.0, 6.0))\n",
        "\n",
        "sns.boxplot(x = 'bio_class', y = 'hAcc', data = df_ai)\n",
        "\n",
        "plt.xlabel('Bioactivity class', fontsize=14, fontweight='bold')\n",
        "plt.ylabel('hAcc', fontsize=14, fontweight='bold')\n",
        "\n",
        "plt.savefig('plot_hAcc.pdf')"
      ],
      "execution_count": null,
      "outputs": [
        {
          "output_type": "display_data",
          "data": {
            "image/png": "[encoded data removed]",
            "text/plain": [
              "<Figure size 432x432 with 1 Axes>"
            ]
          },
          "metadata": {}
        }
      ]
    },
    {
      "cell_type": "markdown",
      "metadata": {
        "id": "EU-ctoS-CzJm"
      },
      "source": [
        "##Boxplot pCI50"
      ]
    },
    {
      "cell_type": "code",
      "metadata": {
        "colab": {
          "base_uri": "https://localhost:8080/",
          "height": 395
        },
        "id": "0a7BwUQ4C44-",
        "outputId": "76c3d292-643d-4966-fa91-4dad207b301f"
      },
      "source": [
        "plt.figure(figsize=(6.0, 6.0))\n",
        "\n",
        "sns.boxplot(x = 'bio_class', y = 'pIC50', data = df_ai)\n",
        "\n",
        "plt.xlabel('Bioactivity class', fontsize=14, fontweight='bold')\n",
        "plt.ylabel('pIC50', fontsize=14, fontweight='bold')\n",
        "\n",
        "plt.savefig('plot_pIC50.pdf')"
      ],
      "execution_count": null,
      "outputs": [
        {
          "output_type": "display_data",
          "data": {
            "image/png": "[encoded data removed]",
            "text/plain": [
              "<Figure size 432x432 with 1 Axes>"
            ]
          },
          "metadata": {}
        }
      ]
    },
    {
      "cell_type": "code",
      "metadata": {
        "colab": {
          "base_uri": "https://localhost:8080/"
        },
        "id": "-N1cNvliDbQ3",
        "outputId": "742322d2-59fb-4bd3-ede4-0f280c17050b"
      },
      "source": [
        "! zip -r results.zip . -i *.csv *.pdf"
      ],
      "execution_count": null,
      "outputs": [
        {
          "output_type": "stream",
          "name": "stdout",
          "text": [
            "  adding: plot_hAcc.pdf (deflated 38%)\n",
            "  adding: mannwhitneyu_hDon.csv (deflated 10%)\n",
            "  adding: lrrk2_bio_pre-processed.csv (deflated 80%)\n",
            "  adding: plot_LogP.pdf (deflated 37%)\n",
            "  adding: plot_MW.pdf (deflated 38%)\n",
            "  adding: bioactivity_plot.pdf (deflated 33%)\n",
            "  adding: mannwhitneyu_MW.csv (deflated 7%)\n",
            "  adding: plot_pIC50.pdf (deflated 37%)\n",
            "  adding: mannwhitneyu_hAcc.csv (deflated 8%)\n",
            "  adding: lrrk2_preprocessed_data.csv (deflated 82%)\n",
            "  adding: plot_hDon.pdf (deflated 39%)\n",
            "  adding: mannwhitneyu_LogP.csv (deflated 6%)\n"
          ]
        }
      ]
    }
  ]
}